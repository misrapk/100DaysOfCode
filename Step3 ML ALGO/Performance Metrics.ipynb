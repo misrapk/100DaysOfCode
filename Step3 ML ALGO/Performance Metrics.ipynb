{
 "cells": [
  {
   "cell_type": "markdown",
   "metadata": {},
   "source": [
    "# Performance Matrics on Multiclass Classification problem\n"
   ]
  },
  {
   "cell_type": "code",
   "execution_count": 2,
   "metadata": {},
   "outputs": [],
   "source": [
    "from sklearn import metrics"
   ]
  },
  {
   "cell_type": "code",
   "execution_count": 3,
   "metadata": {},
   "outputs": [],
   "source": [
    "C = \"Cat\"\n",
    "D = \"Dog\"\n",
    "M = \"Man\""
   ]
  },
  {
   "cell_type": "code",
   "execution_count": 11,
   "metadata": {},
   "outputs": [],
   "source": [
    "y_true = [C,C,C,C,C,C,C,C,M,M,M,M,M,M,M,M,D,D,D,D,D,D,D,D,D]\n",
    "\n",
    "y_predicted = [C,C,C,C,M,M,C,C,M,M,M,D,M,M,C,M,D,M,D,D,C,D,D,D,D]"
   ]
  },
  {
   "cell_type": "code",
   "execution_count": 12,
   "metadata": {},
   "outputs": [
    {
     "data": {
      "text/plain": [
       "array([[6, 0, 2],\n",
       "       [1, 7, 1],\n",
       "       [1, 1, 6]], dtype=int64)"
      ]
     },
     "execution_count": 12,
     "metadata": {},
     "output_type": "execute_result"
    }
   ],
   "source": [
    "#print confusion metrics\n",
    "metrics.confusion_matrix(y_true, y_predicted)"
   ]
  },
  {
   "cell_type": "code",
   "execution_count": 15,
   "metadata": {},
   "outputs": [
    {
     "name": "stdout",
     "output_type": "stream",
     "text": [
      "              precision    recall  f1-score   support\n",
      "\n",
      "         Cat      0.750     0.750     0.750         8\n",
      "         Dog      0.875     0.778     0.824         9\n",
      "         Man      0.667     0.750     0.706         8\n",
      "\n",
      "    accuracy                          0.760        25\n",
      "   macro avg      0.764     0.759     0.760        25\n",
      "weighted avg      0.768     0.760     0.762        25\n",
      "\n"
     ]
    }
   ],
   "source": [
    "print(metrics.classification_report(y_true, y_predicted, digits=3))"
   ]
  }
 ],
 "metadata": {
  "kernelspec": {
   "display_name": "Python 3",
   "language": "python",
   "name": "python3"
  },
  "language_info": {
   "codemirror_mode": {
    "name": "ipython",
    "version": 3
   },
   "file_extension": ".py",
   "mimetype": "text/x-python",
   "name": "python",
   "nbconvert_exporter": "python",
   "pygments_lexer": "ipython3",
   "version": "3.7.6"
  }
 },
 "nbformat": 4,
 "nbformat_minor": 4
}

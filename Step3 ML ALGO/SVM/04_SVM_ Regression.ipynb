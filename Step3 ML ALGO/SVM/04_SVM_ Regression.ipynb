{
 "cells": [
  {
   "cell_type": "code",
   "execution_count": 1,
   "metadata": {},
   "outputs": [],
   "source": [
    "#import modules\n",
    "import numpy as np\n",
    "import pandas as pd\n",
    "import seaborn as sns\n",
    "import matplotlib.pyplot as plt"
   ]
  },
  {
   "cell_type": "code",
   "execution_count": 2,
   "metadata": {},
   "outputs": [],
   "source": [
    "#load dataset\n",
    "df = pd.read_csv(\"D:\\\\pkworkspace\\\\100DaysDataScience\\\\datasets\\\\Movie_regression.csv\", header =0)"
   ]
  },
  {
   "cell_type": "code",
   "execution_count": 3,
   "metadata": {},
   "outputs": [
    {
     "data": {
      "text/html": [
       "<div>\n",
       "<style scoped>\n",
       "    .dataframe tbody tr th:only-of-type {\n",
       "        vertical-align: middle;\n",
       "    }\n",
       "\n",
       "    .dataframe tbody tr th {\n",
       "        vertical-align: top;\n",
       "    }\n",
       "\n",
       "    .dataframe thead th {\n",
       "        text-align: right;\n",
       "    }\n",
       "</style>\n",
       "<table border=\"1\" class=\"dataframe\">\n",
       "  <thead>\n",
       "    <tr style=\"text-align: right;\">\n",
       "      <th></th>\n",
       "      <th>Marketing expense</th>\n",
       "      <th>Production expense</th>\n",
       "      <th>Multiplex coverage</th>\n",
       "      <th>Budget</th>\n",
       "      <th>Movie_length</th>\n",
       "      <th>Lead_ Actor_Rating</th>\n",
       "      <th>Lead_Actress_rating</th>\n",
       "      <th>Director_rating</th>\n",
       "      <th>Producer_rating</th>\n",
       "      <th>Critic_rating</th>\n",
       "      <th>Trailer_views</th>\n",
       "      <th>3D_available</th>\n",
       "      <th>Time_taken</th>\n",
       "      <th>Twitter_hastags</th>\n",
       "      <th>Genre</th>\n",
       "      <th>Avg_age_actors</th>\n",
       "      <th>Num_multiplex</th>\n",
       "      <th>Collection</th>\n",
       "    </tr>\n",
       "  </thead>\n",
       "  <tbody>\n",
       "    <tr>\n",
       "      <th>0</th>\n",
       "      <td>20.1264</td>\n",
       "      <td>59.62</td>\n",
       "      <td>0.462</td>\n",
       "      <td>36524.125</td>\n",
       "      <td>138.7</td>\n",
       "      <td>7.825</td>\n",
       "      <td>8.095</td>\n",
       "      <td>7.910</td>\n",
       "      <td>7.995</td>\n",
       "      <td>7.94</td>\n",
       "      <td>527367</td>\n",
       "      <td>YES</td>\n",
       "      <td>109.60</td>\n",
       "      <td>223.840</td>\n",
       "      <td>Thriller</td>\n",
       "      <td>23</td>\n",
       "      <td>494</td>\n",
       "      <td>48000</td>\n",
       "    </tr>\n",
       "    <tr>\n",
       "      <th>1</th>\n",
       "      <td>20.5462</td>\n",
       "      <td>69.14</td>\n",
       "      <td>0.531</td>\n",
       "      <td>35668.655</td>\n",
       "      <td>152.4</td>\n",
       "      <td>7.505</td>\n",
       "      <td>7.650</td>\n",
       "      <td>7.440</td>\n",
       "      <td>7.470</td>\n",
       "      <td>7.44</td>\n",
       "      <td>494055</td>\n",
       "      <td>NO</td>\n",
       "      <td>146.64</td>\n",
       "      <td>243.456</td>\n",
       "      <td>Drama</td>\n",
       "      <td>42</td>\n",
       "      <td>462</td>\n",
       "      <td>43200</td>\n",
       "    </tr>\n",
       "    <tr>\n",
       "      <th>2</th>\n",
       "      <td>20.5458</td>\n",
       "      <td>69.14</td>\n",
       "      <td>0.531</td>\n",
       "      <td>39912.675</td>\n",
       "      <td>134.6</td>\n",
       "      <td>7.485</td>\n",
       "      <td>7.570</td>\n",
       "      <td>7.495</td>\n",
       "      <td>7.515</td>\n",
       "      <td>7.44</td>\n",
       "      <td>547051</td>\n",
       "      <td>NO</td>\n",
       "      <td>147.88</td>\n",
       "      <td>2022.400</td>\n",
       "      <td>Comedy</td>\n",
       "      <td>38</td>\n",
       "      <td>458</td>\n",
       "      <td>69400</td>\n",
       "    </tr>\n",
       "    <tr>\n",
       "      <th>3</th>\n",
       "      <td>20.6474</td>\n",
       "      <td>59.36</td>\n",
       "      <td>0.542</td>\n",
       "      <td>38873.890</td>\n",
       "      <td>119.3</td>\n",
       "      <td>6.895</td>\n",
       "      <td>7.035</td>\n",
       "      <td>6.920</td>\n",
       "      <td>7.020</td>\n",
       "      <td>8.26</td>\n",
       "      <td>516279</td>\n",
       "      <td>YES</td>\n",
       "      <td>185.36</td>\n",
       "      <td>225.344</td>\n",
       "      <td>Drama</td>\n",
       "      <td>45</td>\n",
       "      <td>472</td>\n",
       "      <td>66800</td>\n",
       "    </tr>\n",
       "    <tr>\n",
       "      <th>4</th>\n",
       "      <td>21.3810</td>\n",
       "      <td>59.36</td>\n",
       "      <td>0.542</td>\n",
       "      <td>39701.585</td>\n",
       "      <td>127.7</td>\n",
       "      <td>6.920</td>\n",
       "      <td>7.070</td>\n",
       "      <td>6.815</td>\n",
       "      <td>7.070</td>\n",
       "      <td>8.26</td>\n",
       "      <td>531448</td>\n",
       "      <td>NO</td>\n",
       "      <td>176.48</td>\n",
       "      <td>225.792</td>\n",
       "      <td>Drama</td>\n",
       "      <td>55</td>\n",
       "      <td>395</td>\n",
       "      <td>72400</td>\n",
       "    </tr>\n",
       "  </tbody>\n",
       "</table>\n",
       "</div>"
      ],
      "text/plain": [
       "   Marketing expense  Production expense  Multiplex coverage     Budget  \\\n",
       "0            20.1264               59.62               0.462  36524.125   \n",
       "1            20.5462               69.14               0.531  35668.655   \n",
       "2            20.5458               69.14               0.531  39912.675   \n",
       "3            20.6474               59.36               0.542  38873.890   \n",
       "4            21.3810               59.36               0.542  39701.585   \n",
       "\n",
       "   Movie_length  Lead_ Actor_Rating  Lead_Actress_rating  Director_rating  \\\n",
       "0         138.7               7.825                8.095            7.910   \n",
       "1         152.4               7.505                7.650            7.440   \n",
       "2         134.6               7.485                7.570            7.495   \n",
       "3         119.3               6.895                7.035            6.920   \n",
       "4         127.7               6.920                7.070            6.815   \n",
       "\n",
       "   Producer_rating  Critic_rating  Trailer_views 3D_available  Time_taken  \\\n",
       "0            7.995           7.94         527367          YES      109.60   \n",
       "1            7.470           7.44         494055           NO      146.64   \n",
       "2            7.515           7.44         547051           NO      147.88   \n",
       "3            7.020           8.26         516279          YES      185.36   \n",
       "4            7.070           8.26         531448           NO      176.48   \n",
       "\n",
       "   Twitter_hastags     Genre  Avg_age_actors  Num_multiplex  Collection  \n",
       "0          223.840  Thriller              23            494       48000  \n",
       "1          243.456     Drama              42            462       43200  \n",
       "2         2022.400    Comedy              38            458       69400  \n",
       "3          225.344     Drama              45            472       66800  \n",
       "4          225.792     Drama              55            395       72400  "
      ]
     },
     "execution_count": 3,
     "metadata": {},
     "output_type": "execute_result"
    }
   ],
   "source": [
    "df.head()"
   ]
  },
  {
   "cell_type": "code",
   "execution_count": 4,
   "metadata": {},
   "outputs": [
    {
     "name": "stdout",
     "output_type": "stream",
     "text": [
      "<class 'pandas.core.frame.DataFrame'>\n",
      "RangeIndex: 506 entries, 0 to 505\n",
      "Data columns (total 18 columns):\n",
      " #   Column               Non-Null Count  Dtype  \n",
      "---  ------               --------------  -----  \n",
      " 0   Marketing expense    506 non-null    float64\n",
      " 1   Production expense   506 non-null    float64\n",
      " 2   Multiplex coverage   506 non-null    float64\n",
      " 3   Budget               506 non-null    float64\n",
      " 4   Movie_length         506 non-null    float64\n",
      " 5   Lead_ Actor_Rating   506 non-null    float64\n",
      " 6   Lead_Actress_rating  506 non-null    float64\n",
      " 7   Director_rating      506 non-null    float64\n",
      " 8   Producer_rating      506 non-null    float64\n",
      " 9   Critic_rating        506 non-null    float64\n",
      " 10  Trailer_views        506 non-null    int64  \n",
      " 11  3D_available         506 non-null    object \n",
      " 12  Time_taken           494 non-null    float64\n",
      " 13  Twitter_hastags      506 non-null    float64\n",
      " 14  Genre                506 non-null    object \n",
      " 15  Avg_age_actors       506 non-null    int64  \n",
      " 16  Num_multiplex        506 non-null    int64  \n",
      " 17  Collection           506 non-null    int64  \n",
      "dtypes: float64(12), int64(4), object(2)\n",
      "memory usage: 71.3+ KB\n"
     ]
    }
   ],
   "source": [
    "df.info()"
   ]
  },
  {
   "cell_type": "markdown",
   "metadata": {},
   "source": [
    "### first task --> treat missing values"
   ]
  },
  {
   "cell_type": "code",
   "execution_count": 5,
   "metadata": {},
   "outputs": [
    {
     "data": {
      "text/plain": [
       "157.39149797570855"
      ]
     },
     "execution_count": 5,
     "metadata": {},
     "output_type": "execute_result"
    }
   ],
   "source": [
    "#replace with mean values\n",
    "df['Time_taken'].mean()"
   ]
  },
  {
   "cell_type": "code",
   "execution_count": 6,
   "metadata": {},
   "outputs": [],
   "source": [
    "df['Time_taken'].fillna(value = df['Time_taken'].mean(), inplace=True )"
   ]
  },
  {
   "cell_type": "code",
   "execution_count": 7,
   "metadata": {},
   "outputs": [
    {
     "name": "stdout",
     "output_type": "stream",
     "text": [
      "<class 'pandas.core.frame.DataFrame'>\n",
      "RangeIndex: 506 entries, 0 to 505\n",
      "Data columns (total 18 columns):\n",
      " #   Column               Non-Null Count  Dtype  \n",
      "---  ------               --------------  -----  \n",
      " 0   Marketing expense    506 non-null    float64\n",
      " 1   Production expense   506 non-null    float64\n",
      " 2   Multiplex coverage   506 non-null    float64\n",
      " 3   Budget               506 non-null    float64\n",
      " 4   Movie_length         506 non-null    float64\n",
      " 5   Lead_ Actor_Rating   506 non-null    float64\n",
      " 6   Lead_Actress_rating  506 non-null    float64\n",
      " 7   Director_rating      506 non-null    float64\n",
      " 8   Producer_rating      506 non-null    float64\n",
      " 9   Critic_rating        506 non-null    float64\n",
      " 10  Trailer_views        506 non-null    int64  \n",
      " 11  3D_available         506 non-null    object \n",
      " 12  Time_taken           506 non-null    float64\n",
      " 13  Twitter_hastags      506 non-null    float64\n",
      " 14  Genre                506 non-null    object \n",
      " 15  Avg_age_actors       506 non-null    int64  \n",
      " 16  Num_multiplex        506 non-null    int64  \n",
      " 17  Collection           506 non-null    int64  \n",
      "dtypes: float64(12), int64(4), object(2)\n",
      "memory usage: 71.3+ KB\n"
     ]
    }
   ],
   "source": [
    "df.info()"
   ]
  },
  {
   "cell_type": "markdown",
   "metadata": {},
   "source": [
    "### Task 2 --> categorical(object) into numerical"
   ]
  },
  {
   "cell_type": "markdown",
   "metadata": {},
   "source": [
    "we will do this by creating DUMMY VARIABLE"
   ]
  },
  {
   "cell_type": "code",
   "execution_count": 8,
   "metadata": {},
   "outputs": [],
   "source": [
    "df = pd.get_dummies(df, columns = ['3D_available', 'Genre'], drop_first = True)"
   ]
  },
  {
   "cell_type": "code",
   "execution_count": 9,
   "metadata": {},
   "outputs": [
    {
     "data": {
      "text/html": [
       "<div>\n",
       "<style scoped>\n",
       "    .dataframe tbody tr th:only-of-type {\n",
       "        vertical-align: middle;\n",
       "    }\n",
       "\n",
       "    .dataframe tbody tr th {\n",
       "        vertical-align: top;\n",
       "    }\n",
       "\n",
       "    .dataframe thead th {\n",
       "        text-align: right;\n",
       "    }\n",
       "</style>\n",
       "<table border=\"1\" class=\"dataframe\">\n",
       "  <thead>\n",
       "    <tr style=\"text-align: right;\">\n",
       "      <th></th>\n",
       "      <th>Marketing expense</th>\n",
       "      <th>Production expense</th>\n",
       "      <th>Multiplex coverage</th>\n",
       "      <th>Budget</th>\n",
       "      <th>Movie_length</th>\n",
       "      <th>Lead_ Actor_Rating</th>\n",
       "      <th>Lead_Actress_rating</th>\n",
       "      <th>Director_rating</th>\n",
       "      <th>Producer_rating</th>\n",
       "      <th>Critic_rating</th>\n",
       "      <th>Trailer_views</th>\n",
       "      <th>Time_taken</th>\n",
       "      <th>Twitter_hastags</th>\n",
       "      <th>Avg_age_actors</th>\n",
       "      <th>Num_multiplex</th>\n",
       "      <th>Collection</th>\n",
       "      <th>3D_available_YES</th>\n",
       "      <th>Genre_Comedy</th>\n",
       "      <th>Genre_Drama</th>\n",
       "      <th>Genre_Thriller</th>\n",
       "    </tr>\n",
       "  </thead>\n",
       "  <tbody>\n",
       "    <tr>\n",
       "      <th>0</th>\n",
       "      <td>20.1264</td>\n",
       "      <td>59.62</td>\n",
       "      <td>0.462</td>\n",
       "      <td>36524.125</td>\n",
       "      <td>138.7</td>\n",
       "      <td>7.825</td>\n",
       "      <td>8.095</td>\n",
       "      <td>7.910</td>\n",
       "      <td>7.995</td>\n",
       "      <td>7.94</td>\n",
       "      <td>527367</td>\n",
       "      <td>109.60</td>\n",
       "      <td>223.840</td>\n",
       "      <td>23</td>\n",
       "      <td>494</td>\n",
       "      <td>48000</td>\n",
       "      <td>1</td>\n",
       "      <td>0</td>\n",
       "      <td>0</td>\n",
       "      <td>1</td>\n",
       "    </tr>\n",
       "    <tr>\n",
       "      <th>1</th>\n",
       "      <td>20.5462</td>\n",
       "      <td>69.14</td>\n",
       "      <td>0.531</td>\n",
       "      <td>35668.655</td>\n",
       "      <td>152.4</td>\n",
       "      <td>7.505</td>\n",
       "      <td>7.650</td>\n",
       "      <td>7.440</td>\n",
       "      <td>7.470</td>\n",
       "      <td>7.44</td>\n",
       "      <td>494055</td>\n",
       "      <td>146.64</td>\n",
       "      <td>243.456</td>\n",
       "      <td>42</td>\n",
       "      <td>462</td>\n",
       "      <td>43200</td>\n",
       "      <td>0</td>\n",
       "      <td>0</td>\n",
       "      <td>1</td>\n",
       "      <td>0</td>\n",
       "    </tr>\n",
       "    <tr>\n",
       "      <th>2</th>\n",
       "      <td>20.5458</td>\n",
       "      <td>69.14</td>\n",
       "      <td>0.531</td>\n",
       "      <td>39912.675</td>\n",
       "      <td>134.6</td>\n",
       "      <td>7.485</td>\n",
       "      <td>7.570</td>\n",
       "      <td>7.495</td>\n",
       "      <td>7.515</td>\n",
       "      <td>7.44</td>\n",
       "      <td>547051</td>\n",
       "      <td>147.88</td>\n",
       "      <td>2022.400</td>\n",
       "      <td>38</td>\n",
       "      <td>458</td>\n",
       "      <td>69400</td>\n",
       "      <td>0</td>\n",
       "      <td>1</td>\n",
       "      <td>0</td>\n",
       "      <td>0</td>\n",
       "    </tr>\n",
       "    <tr>\n",
       "      <th>3</th>\n",
       "      <td>20.6474</td>\n",
       "      <td>59.36</td>\n",
       "      <td>0.542</td>\n",
       "      <td>38873.890</td>\n",
       "      <td>119.3</td>\n",
       "      <td>6.895</td>\n",
       "      <td>7.035</td>\n",
       "      <td>6.920</td>\n",
       "      <td>7.020</td>\n",
       "      <td>8.26</td>\n",
       "      <td>516279</td>\n",
       "      <td>185.36</td>\n",
       "      <td>225.344</td>\n",
       "      <td>45</td>\n",
       "      <td>472</td>\n",
       "      <td>66800</td>\n",
       "      <td>1</td>\n",
       "      <td>0</td>\n",
       "      <td>1</td>\n",
       "      <td>0</td>\n",
       "    </tr>\n",
       "    <tr>\n",
       "      <th>4</th>\n",
       "      <td>21.3810</td>\n",
       "      <td>59.36</td>\n",
       "      <td>0.542</td>\n",
       "      <td>39701.585</td>\n",
       "      <td>127.7</td>\n",
       "      <td>6.920</td>\n",
       "      <td>7.070</td>\n",
       "      <td>6.815</td>\n",
       "      <td>7.070</td>\n",
       "      <td>8.26</td>\n",
       "      <td>531448</td>\n",
       "      <td>176.48</td>\n",
       "      <td>225.792</td>\n",
       "      <td>55</td>\n",
       "      <td>395</td>\n",
       "      <td>72400</td>\n",
       "      <td>0</td>\n",
       "      <td>0</td>\n",
       "      <td>1</td>\n",
       "      <td>0</td>\n",
       "    </tr>\n",
       "  </tbody>\n",
       "</table>\n",
       "</div>"
      ],
      "text/plain": [
       "   Marketing expense  Production expense  Multiplex coverage     Budget  \\\n",
       "0            20.1264               59.62               0.462  36524.125   \n",
       "1            20.5462               69.14               0.531  35668.655   \n",
       "2            20.5458               69.14               0.531  39912.675   \n",
       "3            20.6474               59.36               0.542  38873.890   \n",
       "4            21.3810               59.36               0.542  39701.585   \n",
       "\n",
       "   Movie_length  Lead_ Actor_Rating  Lead_Actress_rating  Director_rating  \\\n",
       "0         138.7               7.825                8.095            7.910   \n",
       "1         152.4               7.505                7.650            7.440   \n",
       "2         134.6               7.485                7.570            7.495   \n",
       "3         119.3               6.895                7.035            6.920   \n",
       "4         127.7               6.920                7.070            6.815   \n",
       "\n",
       "   Producer_rating  Critic_rating  Trailer_views  Time_taken  Twitter_hastags  \\\n",
       "0            7.995           7.94         527367      109.60          223.840   \n",
       "1            7.470           7.44         494055      146.64          243.456   \n",
       "2            7.515           7.44         547051      147.88         2022.400   \n",
       "3            7.020           8.26         516279      185.36          225.344   \n",
       "4            7.070           8.26         531448      176.48          225.792   \n",
       "\n",
       "   Avg_age_actors  Num_multiplex  Collection  3D_available_YES  Genre_Comedy  \\\n",
       "0              23            494       48000                 1             0   \n",
       "1              42            462       43200                 0             0   \n",
       "2              38            458       69400                 0             1   \n",
       "3              45            472       66800                 1             0   \n",
       "4              55            395       72400                 0             0   \n",
       "\n",
       "   Genre_Drama  Genre_Thriller  \n",
       "0            0               1  \n",
       "1            1               0  \n",
       "2            0               0  \n",
       "3            1               0  \n",
       "4            1               0  "
      ]
     },
     "execution_count": 9,
     "metadata": {},
     "output_type": "execute_result"
    }
   ],
   "source": [
    "df.head()"
   ]
  },
  {
   "cell_type": "markdown",
   "metadata": {},
   "source": [
    "### task 3 --> x,y split"
   ]
  },
  {
   "cell_type": "code",
   "execution_count": 10,
   "metadata": {},
   "outputs": [
    {
     "data": {
      "text/plain": [
       "pandas.core.frame.DataFrame"
      ]
     },
     "execution_count": 10,
     "metadata": {},
     "output_type": "execute_result"
    }
   ],
   "source": [
    "x = df.loc[:, df.columns != \"Collection\"]\n",
    "type(x)"
   ]
  },
  {
   "cell_type": "code",
   "execution_count": 11,
   "metadata": {},
   "outputs": [
    {
     "data": {
      "text/html": [
       "<div>\n",
       "<style scoped>\n",
       "    .dataframe tbody tr th:only-of-type {\n",
       "        vertical-align: middle;\n",
       "    }\n",
       "\n",
       "    .dataframe tbody tr th {\n",
       "        vertical-align: top;\n",
       "    }\n",
       "\n",
       "    .dataframe thead th {\n",
       "        text-align: right;\n",
       "    }\n",
       "</style>\n",
       "<table border=\"1\" class=\"dataframe\">\n",
       "  <thead>\n",
       "    <tr style=\"text-align: right;\">\n",
       "      <th></th>\n",
       "      <th>Marketing expense</th>\n",
       "      <th>Production expense</th>\n",
       "      <th>Multiplex coverage</th>\n",
       "      <th>Budget</th>\n",
       "      <th>Movie_length</th>\n",
       "      <th>Lead_ Actor_Rating</th>\n",
       "      <th>Lead_Actress_rating</th>\n",
       "      <th>Director_rating</th>\n",
       "      <th>Producer_rating</th>\n",
       "      <th>Critic_rating</th>\n",
       "      <th>Trailer_views</th>\n",
       "      <th>Time_taken</th>\n",
       "      <th>Twitter_hastags</th>\n",
       "      <th>Avg_age_actors</th>\n",
       "      <th>Num_multiplex</th>\n",
       "      <th>3D_available_YES</th>\n",
       "      <th>Genre_Comedy</th>\n",
       "      <th>Genre_Drama</th>\n",
       "      <th>Genre_Thriller</th>\n",
       "    </tr>\n",
       "  </thead>\n",
       "  <tbody>\n",
       "    <tr>\n",
       "      <th>0</th>\n",
       "      <td>20.1264</td>\n",
       "      <td>59.62</td>\n",
       "      <td>0.462</td>\n",
       "      <td>36524.125</td>\n",
       "      <td>138.7</td>\n",
       "      <td>7.825</td>\n",
       "      <td>8.095</td>\n",
       "      <td>7.910</td>\n",
       "      <td>7.995</td>\n",
       "      <td>7.94</td>\n",
       "      <td>527367</td>\n",
       "      <td>109.60</td>\n",
       "      <td>223.840</td>\n",
       "      <td>23</td>\n",
       "      <td>494</td>\n",
       "      <td>1</td>\n",
       "      <td>0</td>\n",
       "      <td>0</td>\n",
       "      <td>1</td>\n",
       "    </tr>\n",
       "    <tr>\n",
       "      <th>1</th>\n",
       "      <td>20.5462</td>\n",
       "      <td>69.14</td>\n",
       "      <td>0.531</td>\n",
       "      <td>35668.655</td>\n",
       "      <td>152.4</td>\n",
       "      <td>7.505</td>\n",
       "      <td>7.650</td>\n",
       "      <td>7.440</td>\n",
       "      <td>7.470</td>\n",
       "      <td>7.44</td>\n",
       "      <td>494055</td>\n",
       "      <td>146.64</td>\n",
       "      <td>243.456</td>\n",
       "      <td>42</td>\n",
       "      <td>462</td>\n",
       "      <td>0</td>\n",
       "      <td>0</td>\n",
       "      <td>1</td>\n",
       "      <td>0</td>\n",
       "    </tr>\n",
       "    <tr>\n",
       "      <th>2</th>\n",
       "      <td>20.5458</td>\n",
       "      <td>69.14</td>\n",
       "      <td>0.531</td>\n",
       "      <td>39912.675</td>\n",
       "      <td>134.6</td>\n",
       "      <td>7.485</td>\n",
       "      <td>7.570</td>\n",
       "      <td>7.495</td>\n",
       "      <td>7.515</td>\n",
       "      <td>7.44</td>\n",
       "      <td>547051</td>\n",
       "      <td>147.88</td>\n",
       "      <td>2022.400</td>\n",
       "      <td>38</td>\n",
       "      <td>458</td>\n",
       "      <td>0</td>\n",
       "      <td>1</td>\n",
       "      <td>0</td>\n",
       "      <td>0</td>\n",
       "    </tr>\n",
       "    <tr>\n",
       "      <th>3</th>\n",
       "      <td>20.6474</td>\n",
       "      <td>59.36</td>\n",
       "      <td>0.542</td>\n",
       "      <td>38873.890</td>\n",
       "      <td>119.3</td>\n",
       "      <td>6.895</td>\n",
       "      <td>7.035</td>\n",
       "      <td>6.920</td>\n",
       "      <td>7.020</td>\n",
       "      <td>8.26</td>\n",
       "      <td>516279</td>\n",
       "      <td>185.36</td>\n",
       "      <td>225.344</td>\n",
       "      <td>45</td>\n",
       "      <td>472</td>\n",
       "      <td>1</td>\n",
       "      <td>0</td>\n",
       "      <td>1</td>\n",
       "      <td>0</td>\n",
       "    </tr>\n",
       "    <tr>\n",
       "      <th>4</th>\n",
       "      <td>21.3810</td>\n",
       "      <td>59.36</td>\n",
       "      <td>0.542</td>\n",
       "      <td>39701.585</td>\n",
       "      <td>127.7</td>\n",
       "      <td>6.920</td>\n",
       "      <td>7.070</td>\n",
       "      <td>6.815</td>\n",
       "      <td>7.070</td>\n",
       "      <td>8.26</td>\n",
       "      <td>531448</td>\n",
       "      <td>176.48</td>\n",
       "      <td>225.792</td>\n",
       "      <td>55</td>\n",
       "      <td>395</td>\n",
       "      <td>0</td>\n",
       "      <td>0</td>\n",
       "      <td>1</td>\n",
       "      <td>0</td>\n",
       "    </tr>\n",
       "  </tbody>\n",
       "</table>\n",
       "</div>"
      ],
      "text/plain": [
       "   Marketing expense  Production expense  Multiplex coverage     Budget  \\\n",
       "0            20.1264               59.62               0.462  36524.125   \n",
       "1            20.5462               69.14               0.531  35668.655   \n",
       "2            20.5458               69.14               0.531  39912.675   \n",
       "3            20.6474               59.36               0.542  38873.890   \n",
       "4            21.3810               59.36               0.542  39701.585   \n",
       "\n",
       "   Movie_length  Lead_ Actor_Rating  Lead_Actress_rating  Director_rating  \\\n",
       "0         138.7               7.825                8.095            7.910   \n",
       "1         152.4               7.505                7.650            7.440   \n",
       "2         134.6               7.485                7.570            7.495   \n",
       "3         119.3               6.895                7.035            6.920   \n",
       "4         127.7               6.920                7.070            6.815   \n",
       "\n",
       "   Producer_rating  Critic_rating  Trailer_views  Time_taken  Twitter_hastags  \\\n",
       "0            7.995           7.94         527367      109.60          223.840   \n",
       "1            7.470           7.44         494055      146.64          243.456   \n",
       "2            7.515           7.44         547051      147.88         2022.400   \n",
       "3            7.020           8.26         516279      185.36          225.344   \n",
       "4            7.070           8.26         531448      176.48          225.792   \n",
       "\n",
       "   Avg_age_actors  Num_multiplex  3D_available_YES  Genre_Comedy  Genre_Drama  \\\n",
       "0              23            494                 1             0            0   \n",
       "1              42            462                 0             0            1   \n",
       "2              38            458                 0             1            0   \n",
       "3              45            472                 1             0            1   \n",
       "4              55            395                 0             0            1   \n",
       "\n",
       "   Genre_Thriller  \n",
       "0               1  \n",
       "1               0  \n",
       "2               0  \n",
       "3               0  \n",
       "4               0  "
      ]
     },
     "execution_count": 11,
     "metadata": {},
     "output_type": "execute_result"
    }
   ],
   "source": [
    "x.head()"
   ]
  },
  {
   "cell_type": "code",
   "execution_count": 12,
   "metadata": {},
   "outputs": [
    {
     "data": {
      "text/plain": [
       "(506, 19)"
      ]
     },
     "execution_count": 12,
     "metadata": {},
     "output_type": "execute_result"
    }
   ],
   "source": [
    "x.shape"
   ]
  },
  {
   "cell_type": "code",
   "execution_count": 13,
   "metadata": {},
   "outputs": [
    {
     "data": {
      "text/plain": [
       "pandas.core.series.Series"
      ]
     },
     "execution_count": 13,
     "metadata": {},
     "output_type": "execute_result"
    }
   ],
   "source": [
    "y = df['Collection']\n",
    "type(y)"
   ]
  },
  {
   "cell_type": "code",
   "execution_count": 14,
   "metadata": {},
   "outputs": [
    {
     "data": {
      "text/plain": [
       "(506,)"
      ]
     },
     "execution_count": 14,
     "metadata": {},
     "output_type": "execute_result"
    }
   ],
   "source": [
    "y.shape"
   ]
  },
  {
   "cell_type": "markdown",
   "metadata": {},
   "source": [
    "### Task 4 --> Train_test_split"
   ]
  },
  {
   "cell_type": "code",
   "execution_count": 15,
   "metadata": {},
   "outputs": [],
   "source": [
    "from sklearn.model_selection import train_test_split"
   ]
  },
  {
   "cell_type": "code",
   "execution_count": 68,
   "metadata": {},
   "outputs": [],
   "source": [
    "x_train, x_test, y_train, y_test = train_test_split(x,y, test_size =0.3, random_state=0)"
   ]
  },
  {
   "cell_type": "code",
   "execution_count": 69,
   "metadata": {},
   "outputs": [
    {
     "data": {
      "text/plain": [
       "(354, 19)"
      ]
     },
     "execution_count": 69,
     "metadata": {},
     "output_type": "execute_result"
    }
   ],
   "source": [
    "x_train.shape"
   ]
  },
  {
   "cell_type": "code",
   "execution_count": 70,
   "metadata": {},
   "outputs": [
    {
     "data": {
      "text/plain": [
       "(152, 19)"
      ]
     },
     "execution_count": 70,
     "metadata": {},
     "output_type": "execute_result"
    }
   ],
   "source": [
    "x_test.shape"
   ]
  },
  {
   "cell_type": "markdown",
   "metadata": {},
   "source": [
    "### task 5 --> Standardizing data"
   ]
  },
  {
   "cell_type": "markdown",
   "metadata": {},
   "source": [
    "Standardizing the data is very important in SVM"
   ]
  },
  {
   "cell_type": "code",
   "execution_count": 71,
   "metadata": {},
   "outputs": [],
   "source": [
    "from sklearn.preprocessing import StandardScaler"
   ]
  },
  {
   "cell_type": "code",
   "execution_count": 72,
   "metadata": {},
   "outputs": [],
   "source": [
    "sc = StandardScaler().fit(x_train)"
   ]
  },
  {
   "cell_type": "code",
   "execution_count": 73,
   "metadata": {},
   "outputs": [],
   "source": [
    "x_train_std = sc.transform(x_train)"
   ]
  },
  {
   "cell_type": "code",
   "execution_count": 74,
   "metadata": {},
   "outputs": [],
   "source": [
    "x_test_std = sc.transform(x_test)"
   ]
  },
  {
   "cell_type": "code",
   "execution_count": 75,
   "metadata": {},
   "outputs": [
    {
     "data": {
      "text/plain": [
       "numpy.ndarray"
      ]
     },
     "execution_count": 75,
     "metadata": {},
     "output_type": "execute_result"
    }
   ],
   "source": [
    "type(x_train_std)"
   ]
  },
  {
   "cell_type": "code",
   "execution_count": 76,
   "metadata": {},
   "outputs": [
    {
     "data": {
      "text/plain": [
       "array([[-0.20735619,  1.54801583, -0.58821309, ...,  1.50923086,\n",
       "        -0.47871355, -0.76644892],\n",
       "       [-0.38886492, -0.58974728,  0.79782145, ..., -0.66258916,\n",
       "        -0.47871355,  1.30471839],\n",
       "       [-0.33573486,  1.54801583, -0.58821309, ..., -0.66258916,\n",
       "        -0.47871355,  1.30471839],\n",
       "       ...,\n",
       "       [-0.38450355, -0.15303077,  0.07881603, ..., -0.66258916,\n",
       "        -0.47871355, -0.76644892],\n",
       "       [-0.37511786, -0.59690657,  0.9364249 , ..., -0.66258916,\n",
       "        -0.47871355,  1.30471839],\n",
       "       [-0.38592298, -1.00641779,  0.39933652, ..., -0.66258916,\n",
       "        -0.47871355,  1.30471839]])"
      ]
     },
     "execution_count": 76,
     "metadata": {},
     "output_type": "execute_result"
    }
   ],
   "source": [
    "x_train_std"
   ]
  },
  {
   "cell_type": "code",
   "execution_count": 77,
   "metadata": {},
   "outputs": [
    {
     "data": {
      "text/html": [
       "<div>\n",
       "<style scoped>\n",
       "    .dataframe tbody tr th:only-of-type {\n",
       "        vertical-align: middle;\n",
       "    }\n",
       "\n",
       "    .dataframe tbody tr th {\n",
       "        vertical-align: top;\n",
       "    }\n",
       "\n",
       "    .dataframe thead th {\n",
       "        text-align: right;\n",
       "    }\n",
       "</style>\n",
       "<table border=\"1\" class=\"dataframe\">\n",
       "  <thead>\n",
       "    <tr style=\"text-align: right;\">\n",
       "      <th></th>\n",
       "      <th>Marketing expense</th>\n",
       "      <th>Production expense</th>\n",
       "      <th>Multiplex coverage</th>\n",
       "      <th>Budget</th>\n",
       "      <th>Movie_length</th>\n",
       "      <th>Lead_ Actor_Rating</th>\n",
       "      <th>Lead_Actress_rating</th>\n",
       "      <th>Director_rating</th>\n",
       "      <th>Producer_rating</th>\n",
       "      <th>Critic_rating</th>\n",
       "      <th>Trailer_views</th>\n",
       "      <th>Time_taken</th>\n",
       "      <th>Twitter_hastags</th>\n",
       "      <th>Avg_age_actors</th>\n",
       "      <th>Num_multiplex</th>\n",
       "      <th>3D_available_YES</th>\n",
       "      <th>Genre_Comedy</th>\n",
       "      <th>Genre_Drama</th>\n",
       "      <th>Genre_Thriller</th>\n",
       "    </tr>\n",
       "  </thead>\n",
       "  <tbody>\n",
       "    <tr>\n",
       "      <th>141</th>\n",
       "      <td>52.5728</td>\n",
       "      <td>98.78</td>\n",
       "      <td>0.376</td>\n",
       "      <td>27880.545</td>\n",
       "      <td>173.5</td>\n",
       "      <td>9.185</td>\n",
       "      <td>9.340</td>\n",
       "      <td>9.145</td>\n",
       "      <td>9.450</td>\n",
       "      <td>7.76</td>\n",
       "      <td>233100</td>\n",
       "      <td>199.76</td>\n",
       "      <td>242.304</td>\n",
       "      <td>43</td>\n",
       "      <td>561</td>\n",
       "      <td>1</td>\n",
       "      <td>1</td>\n",
       "      <td>0</td>\n",
       "      <td>0</td>\n",
       "    </tr>\n",
       "    <tr>\n",
       "      <th>272</th>\n",
       "      <td>22.2920</td>\n",
       "      <td>68.92</td>\n",
       "      <td>0.536</td>\n",
       "      <td>36318.590</td>\n",
       "      <td>132.2</td>\n",
       "      <td>7.995</td>\n",
       "      <td>8.185</td>\n",
       "      <td>7.940</td>\n",
       "      <td>8.045</td>\n",
       "      <td>7.28</td>\n",
       "      <td>502420</td>\n",
       "      <td>169.76</td>\n",
       "      <td>263.904</td>\n",
       "      <td>40</td>\n",
       "      <td>440</td>\n",
       "      <td>1</td>\n",
       "      <td>0</td>\n",
       "      <td>0</td>\n",
       "      <td>1</td>\n",
       "    </tr>\n",
       "    <tr>\n",
       "      <th>135</th>\n",
       "      <td>31.1556</td>\n",
       "      <td>98.78</td>\n",
       "      <td>0.376</td>\n",
       "      <td>35190.925</td>\n",
       "      <td>171.7</td>\n",
       "      <td>8.890</td>\n",
       "      <td>8.965</td>\n",
       "      <td>8.840</td>\n",
       "      <td>9.085</td>\n",
       "      <td>6.76</td>\n",
       "      <td>411162</td>\n",
       "      <td>157.24</td>\n",
       "      <td>222.896</td>\n",
       "      <td>37</td>\n",
       "      <td>663</td>\n",
       "      <td>1</td>\n",
       "      <td>0</td>\n",
       "      <td>0</td>\n",
       "      <td>1</td>\n",
       "    </tr>\n",
       "    <tr>\n",
       "      <th>298</th>\n",
       "      <td>21.2932</td>\n",
       "      <td>59.48</td>\n",
       "      <td>0.600</td>\n",
       "      <td>35246.475</td>\n",
       "      <td>93.6</td>\n",
       "      <td>6.000</td>\n",
       "      <td>6.165</td>\n",
       "      <td>5.985</td>\n",
       "      <td>6.195</td>\n",
       "      <td>9.04</td>\n",
       "      <td>517172</td>\n",
       "      <td>189.00</td>\n",
       "      <td>263.600</td>\n",
       "      <td>48</td>\n",
       "      <td>369</td>\n",
       "      <td>0</td>\n",
       "      <td>0</td>\n",
       "      <td>1</td>\n",
       "      <td>0</td>\n",
       "    </tr>\n",
       "    <tr>\n",
       "      <th>122</th>\n",
       "      <td>21.8598</td>\n",
       "      <td>106.30</td>\n",
       "      <td>0.419</td>\n",
       "      <td>33113.355</td>\n",
       "      <td>166.4</td>\n",
       "      <td>8.830</td>\n",
       "      <td>9.075</td>\n",
       "      <td>8.865</td>\n",
       "      <td>9.050</td>\n",
       "      <td>8.18</td>\n",
       "      <td>388265</td>\n",
       "      <td>178.20</td>\n",
       "      <td>203.280</td>\n",
       "      <td>51</td>\n",
       "      <td>608</td>\n",
       "      <td>1</td>\n",
       "      <td>1</td>\n",
       "      <td>0</td>\n",
       "      <td>0</td>\n",
       "    </tr>\n",
       "    <tr>\n",
       "      <th>...</th>\n",
       "      <td>...</td>\n",
       "      <td>...</td>\n",
       "      <td>...</td>\n",
       "      <td>...</td>\n",
       "      <td>...</td>\n",
       "      <td>...</td>\n",
       "      <td>...</td>\n",
       "      <td>...</td>\n",
       "      <td>...</td>\n",
       "      <td>...</td>\n",
       "      <td>...</td>\n",
       "      <td>...</td>\n",
       "      <td>...</td>\n",
       "      <td>...</td>\n",
       "      <td>...</td>\n",
       "      <td>...</td>\n",
       "      <td>...</td>\n",
       "      <td>...</td>\n",
       "      <td>...</td>\n",
       "    </tr>\n",
       "    <tr>\n",
       "      <th>323</th>\n",
       "      <td>25.6784</td>\n",
       "      <td>69.76</td>\n",
       "      <td>0.507</td>\n",
       "      <td>31707.940</td>\n",
       "      <td>147.8</td>\n",
       "      <td>7.545</td>\n",
       "      <td>7.700</td>\n",
       "      <td>7.550</td>\n",
       "      <td>7.765</td>\n",
       "      <td>8.08</td>\n",
       "      <td>446743</td>\n",
       "      <td>131.40</td>\n",
       "      <td>302.960</td>\n",
       "      <td>25</td>\n",
       "      <td>501</td>\n",
       "      <td>1</td>\n",
       "      <td>1</td>\n",
       "      <td>0</td>\n",
       "      <td>0</td>\n",
       "    </tr>\n",
       "    <tr>\n",
       "      <th>192</th>\n",
       "      <td>21.7328</td>\n",
       "      <td>61.88</td>\n",
       "      <td>0.563</td>\n",
       "      <td>39873.790</td>\n",
       "      <td>99.8</td>\n",
       "      <td>6.620</td>\n",
       "      <td>6.830</td>\n",
       "      <td>6.700</td>\n",
       "      <td>6.895</td>\n",
       "      <td>7.96</td>\n",
       "      <td>515199</td>\n",
       "      <td>210.56</td>\n",
       "      <td>225.824</td>\n",
       "      <td>40</td>\n",
       "      <td>448</td>\n",
       "      <td>1</td>\n",
       "      <td>0</td>\n",
       "      <td>1</td>\n",
       "      <td>0</td>\n",
       "    </tr>\n",
       "    <tr>\n",
       "      <th>117</th>\n",
       "      <td>23.0196</td>\n",
       "      <td>75.02</td>\n",
       "      <td>0.453</td>\n",
       "      <td>33446.655</td>\n",
       "      <td>156.1</td>\n",
       "      <td>8.615</td>\n",
       "      <td>8.755</td>\n",
       "      <td>8.540</td>\n",
       "      <td>8.595</td>\n",
       "      <td>7.44</td>\n",
       "      <td>454755</td>\n",
       "      <td>189.68</td>\n",
       "      <td>303.072</td>\n",
       "      <td>28</td>\n",
       "      <td>609</td>\n",
       "      <td>0</td>\n",
       "      <td>0</td>\n",
       "      <td>0</td>\n",
       "      <td>0</td>\n",
       "    </tr>\n",
       "    <tr>\n",
       "      <th>47</th>\n",
       "      <td>24.5854</td>\n",
       "      <td>68.82</td>\n",
       "      <td>0.552</td>\n",
       "      <td>33496.650</td>\n",
       "      <td>159.0</td>\n",
       "      <td>7.085</td>\n",
       "      <td>7.180</td>\n",
       "      <td>7.125</td>\n",
       "      <td>7.230</td>\n",
       "      <td>7.42</td>\n",
       "      <td>374797</td>\n",
       "      <td>106.64</td>\n",
       "      <td>242.656</td>\n",
       "      <td>44</td>\n",
       "      <td>526</td>\n",
       "      <td>1</td>\n",
       "      <td>0</td>\n",
       "      <td>0</td>\n",
       "      <td>1</td>\n",
       "    </tr>\n",
       "    <tr>\n",
       "      <th>172</th>\n",
       "      <td>22.7828</td>\n",
       "      <td>63.10</td>\n",
       "      <td>0.490</td>\n",
       "      <td>30952.460</td>\n",
       "      <td>162.0</td>\n",
       "      <td>8.650</td>\n",
       "      <td>8.730</td>\n",
       "      <td>8.635</td>\n",
       "      <td>8.790</td>\n",
       "      <td>7.68</td>\n",
       "      <td>415584</td>\n",
       "      <td>187.24</td>\n",
       "      <td>243.696</td>\n",
       "      <td>38</td>\n",
       "      <td>530</td>\n",
       "      <td>0</td>\n",
       "      <td>0</td>\n",
       "      <td>0</td>\n",
       "      <td>1</td>\n",
       "    </tr>\n",
       "  </tbody>\n",
       "</table>\n",
       "<p>354 rows × 19 columns</p>\n",
       "</div>"
      ],
      "text/plain": [
       "     Marketing expense  Production expense  Multiplex coverage     Budget  \\\n",
       "141            52.5728               98.78               0.376  27880.545   \n",
       "272            22.2920               68.92               0.536  36318.590   \n",
       "135            31.1556               98.78               0.376  35190.925   \n",
       "298            21.2932               59.48               0.600  35246.475   \n",
       "122            21.8598              106.30               0.419  33113.355   \n",
       "..                 ...                 ...                 ...        ...   \n",
       "323            25.6784               69.76               0.507  31707.940   \n",
       "192            21.7328               61.88               0.563  39873.790   \n",
       "117            23.0196               75.02               0.453  33446.655   \n",
       "47             24.5854               68.82               0.552  33496.650   \n",
       "172            22.7828               63.10               0.490  30952.460   \n",
       "\n",
       "     Movie_length  Lead_ Actor_Rating  Lead_Actress_rating  Director_rating  \\\n",
       "141         173.5               9.185                9.340            9.145   \n",
       "272         132.2               7.995                8.185            7.940   \n",
       "135         171.7               8.890                8.965            8.840   \n",
       "298          93.6               6.000                6.165            5.985   \n",
       "122         166.4               8.830                9.075            8.865   \n",
       "..            ...                 ...                  ...              ...   \n",
       "323         147.8               7.545                7.700            7.550   \n",
       "192          99.8               6.620                6.830            6.700   \n",
       "117         156.1               8.615                8.755            8.540   \n",
       "47          159.0               7.085                7.180            7.125   \n",
       "172         162.0               8.650                8.730            8.635   \n",
       "\n",
       "     Producer_rating  Critic_rating  Trailer_views  Time_taken  \\\n",
       "141            9.450           7.76         233100      199.76   \n",
       "272            8.045           7.28         502420      169.76   \n",
       "135            9.085           6.76         411162      157.24   \n",
       "298            6.195           9.04         517172      189.00   \n",
       "122            9.050           8.18         388265      178.20   \n",
       "..               ...            ...            ...         ...   \n",
       "323            7.765           8.08         446743      131.40   \n",
       "192            6.895           7.96         515199      210.56   \n",
       "117            8.595           7.44         454755      189.68   \n",
       "47             7.230           7.42         374797      106.64   \n",
       "172            8.790           7.68         415584      187.24   \n",
       "\n",
       "     Twitter_hastags  Avg_age_actors  Num_multiplex  3D_available_YES  \\\n",
       "141          242.304              43            561                 1   \n",
       "272          263.904              40            440                 1   \n",
       "135          222.896              37            663                 1   \n",
       "298          263.600              48            369                 0   \n",
       "122          203.280              51            608                 1   \n",
       "..               ...             ...            ...               ...   \n",
       "323          302.960              25            501                 1   \n",
       "192          225.824              40            448                 1   \n",
       "117          303.072              28            609                 0   \n",
       "47           242.656              44            526                 1   \n",
       "172          243.696              38            530                 0   \n",
       "\n",
       "     Genre_Comedy  Genre_Drama  Genre_Thriller  \n",
       "141             1            0               0  \n",
       "272             0            0               1  \n",
       "135             0            0               1  \n",
       "298             0            1               0  \n",
       "122             1            0               0  \n",
       "..            ...          ...             ...  \n",
       "323             1            0               0  \n",
       "192             0            1               0  \n",
       "117             0            0               0  \n",
       "47              0            0               1  \n",
       "172             0            0               1  \n",
       "\n",
       "[354 rows x 19 columns]"
      ]
     },
     "execution_count": 77,
     "metadata": {},
     "output_type": "execute_result"
    }
   ],
   "source": [
    "x_train"
   ]
  },
  {
   "cell_type": "markdown",
   "metadata": {},
   "source": [
    "### Task 6 --> Train Rgression Tree SVM"
   ]
  },
  {
   "cell_type": "code",
   "execution_count": 85,
   "metadata": {},
   "outputs": [],
   "source": [
    "from sklearn.svm import SVR\n",
    "svr = SVR(kernel='linear', C = 500)"
   ]
  },
  {
   "cell_type": "code",
   "execution_count": 86,
   "metadata": {},
   "outputs": [
    {
     "data": {
      "text/plain": [
       "SVR(C=500, cache_size=200, coef0=0.0, degree=3, epsilon=0.1, gamma='scale',\n",
       "    kernel='linear', max_iter=-1, shrinking=True, tol=0.001, verbose=False)"
      ]
     },
     "execution_count": 86,
     "metadata": {},
     "output_type": "execute_result"
    }
   ],
   "source": [
    "svr.fit(x_train_std, y_train)"
   ]
  },
  {
   "cell_type": "markdown",
   "metadata": {},
   "source": [
    "### PRedict values"
   ]
  },
  {
   "cell_type": "code",
   "execution_count": 88,
   "metadata": {},
   "outputs": [],
   "source": [
    "y_test_pred = svr.predict(x_test_std)\n",
    "y_train_pred = svr.predict(x_train_std)"
   ]
  },
  {
   "cell_type": "code",
   "execution_count": 81,
   "metadata": {},
   "outputs": [],
   "source": [
    "# y_test_pred"
   ]
  },
  {
   "cell_type": "markdown",
   "metadata": {},
   "source": [
    "### MOdel Performance"
   ]
  },
  {
   "cell_type": "code",
   "execution_count": 89,
   "metadata": {},
   "outputs": [],
   "source": [
    "\n",
    "from sklearn.metrics import mean_squared_error, r2_score"
   ]
  },
  {
   "cell_type": "code",
   "execution_count": 90,
   "metadata": {},
   "outputs": [
    {
     "data": {
      "text/plain": [
       "136203094.03090873"
      ]
     },
     "execution_count": 90,
     "metadata": {},
     "output_type": "execute_result"
    }
   ],
   "source": [
    "mean_squared_error(y_test, y_test_pred)"
   ]
  },
  {
   "cell_type": "code",
   "execution_count": 91,
   "metadata": {},
   "outputs": [
    {
     "data": {
      "text/plain": [
       "0.5879691958478411"
      ]
     },
     "execution_count": 91,
     "metadata": {},
     "output_type": "execute_result"
    }
   ],
   "source": [
    "r2_score(y_test, y_test_pred)"
   ]
  },
  {
   "cell_type": "code",
   "execution_count": null,
   "metadata": {},
   "outputs": [],
   "source": []
  },
  {
   "cell_type": "code",
   "execution_count": null,
   "metadata": {},
   "outputs": [],
   "source": []
  },
  {
   "cell_type": "code",
   "execution_count": null,
   "metadata": {},
   "outputs": [],
   "source": []
  },
  {
   "cell_type": "code",
   "execution_count": null,
   "metadata": {},
   "outputs": [],
   "source": []
  }
 ],
 "metadata": {
  "kernelspec": {
   "display_name": "Python 3",
   "language": "python",
   "name": "python3"
  },
  "language_info": {
   "codemirror_mode": {
    "name": "ipython",
    "version": 3
   },
   "file_extension": ".py",
   "mimetype": "text/x-python",
   "name": "python",
   "nbconvert_exporter": "python",
   "pygments_lexer": "ipython3",
   "version": "3.7.6"
  }
 },
 "nbformat": 4,
 "nbformat_minor": 4
}

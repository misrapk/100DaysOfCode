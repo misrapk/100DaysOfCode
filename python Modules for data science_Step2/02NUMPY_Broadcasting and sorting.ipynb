{
 "cells": [
  {
   "cell_type": "markdown",
   "metadata": {},
   "source": [
    "# Broadcasting function\n",
    "It is simply a set of rules for applying binary functions on array of different sizes"
   ]
  },
  {
   "cell_type": "code",
   "execution_count": 12,
   "metadata": {},
   "outputs": [],
   "source": [
    "import numpy as np"
   ]
  },
  {
   "cell_type": "code",
   "execution_count": 13,
   "metadata": {},
   "outputs": [
    {
     "name": "stdout",
     "output_type": "stream",
     "text": [
      "[0 1 2]\n",
      "[[1. 1. 1.]\n",
      " [1. 1. 1.]]\n"
     ]
    }
   ],
   "source": [
    "m = np.ones((2,3))\n",
    "a = np.arange(3)\n",
    "print(a)\n",
    "print(m)"
   ]
  },
  {
   "cell_type": "code",
   "execution_count": 14,
   "metadata": {},
   "outputs": [
    {
     "data": {
      "text/plain": [
       "(2, 3)"
      ]
     },
     "execution_count": 14,
     "metadata": {},
     "output_type": "execute_result"
    }
   ],
   "source": [
    "m.shape"
   ]
  },
  {
   "cell_type": "code",
   "execution_count": 15,
   "metadata": {},
   "outputs": [
    {
     "data": {
      "text/plain": [
       "(3,)"
      ]
     },
     "execution_count": 15,
     "metadata": {},
     "output_type": "execute_result"
    }
   ],
   "source": [
    "a.shape"
   ]
  },
  {
   "cell_type": "code",
   "execution_count": 16,
   "metadata": {},
   "outputs": [
    {
     "data": {
      "text/plain": [
       "array([[1., 2., 3.],\n",
       "       [1., 2., 3.]])"
      ]
     },
     "execution_count": 16,
     "metadata": {},
     "output_type": "execute_result"
    }
   ],
   "source": [
    "m+a"
   ]
  },
  {
   "cell_type": "code",
   "execution_count": 17,
   "metadata": {},
   "outputs": [
    {
     "name": "stdout",
     "output_type": "stream",
     "text": [
      "[[0]\n",
      " [1]\n",
      " [2]]\n",
      "[0 1 2]\n"
     ]
    }
   ],
   "source": [
    "#example 2\n",
    "a = np.arange(3).reshape((3,1))\n",
    "b = np.arange(3)\n",
    "print(a)\n",
    "print(b)"
   ]
  },
  {
   "cell_type": "code",
   "execution_count": 18,
   "metadata": {},
   "outputs": [
    {
     "data": {
      "text/plain": [
       "array([[0, 1, 2],\n",
       "       [1, 2, 3],\n",
       "       [2, 3, 4]])"
      ]
     },
     "execution_count": 18,
     "metadata": {},
     "output_type": "execute_result"
    }
   ],
   "source": [
    "a+b"
   ]
  },
  {
   "cell_type": "code",
   "execution_count": 19,
   "metadata": {},
   "outputs": [],
   "source": [
    "#example 3\n",
    "m = np.ones((3,2))\n",
    "a = np.arange(3)"
   ]
  },
  {
   "cell_type": "code",
   "execution_count": 20,
   "metadata": {},
   "outputs": [
    {
     "data": {
      "text/plain": [
       "(3, 2)"
      ]
     },
     "execution_count": 20,
     "metadata": {},
     "output_type": "execute_result"
    }
   ],
   "source": [
    "m.shape"
   ]
  },
  {
   "cell_type": "code",
   "execution_count": 21,
   "metadata": {},
   "outputs": [
    {
     "data": {
      "text/plain": [
       "(3,)"
      ]
     },
     "execution_count": 21,
     "metadata": {},
     "output_type": "execute_result"
    }
   ],
   "source": [
    "a.shape"
   ]
  },
  {
   "cell_type": "code",
   "execution_count": 22,
   "metadata": {},
   "outputs": [
    {
     "ename": "ValueError",
     "evalue": "operands could not be broadcast together with shapes (3,2) (3,) ",
     "output_type": "error",
     "traceback": [
      "\u001b[1;31m---------------------------------------------------------------------------\u001b[0m",
      "\u001b[1;31mValueError\u001b[0m                                Traceback (most recent call last)",
      "\u001b[1;32m<ipython-input-22-6be8bc0a7831>\u001b[0m in \u001b[0;36m<module>\u001b[1;34m\u001b[0m\n\u001b[0;32m      1\u001b[0m \u001b[1;31m#this will throw an error\u001b[0m\u001b[1;33m\u001b[0m\u001b[1;33m\u001b[0m\u001b[1;33m\u001b[0m\u001b[0m\n\u001b[1;32m----> 2\u001b[1;33m \u001b[0mm\u001b[0m\u001b[1;33m+\u001b[0m\u001b[0ma\u001b[0m\u001b[1;33m\u001b[0m\u001b[1;33m\u001b[0m\u001b[0m\n\u001b[0m",
      "\u001b[1;31mValueError\u001b[0m: operands could not be broadcast together with shapes (3,2) (3,) "
     ]
    }
   ],
   "source": [
    "#this will throw an error\n",
    "m+a"
   ]
  },
  {
   "cell_type": "code",
   "execution_count": null,
   "metadata": {},
   "outputs": [],
   "source": []
  },
  {
   "cell_type": "markdown",
   "metadata": {},
   "source": [
    "# Sorting"
   ]
  },
  {
   "cell_type": "code",
   "execution_count": 23,
   "metadata": {},
   "outputs": [
    {
     "data": {
      "text/plain": [
       "array([  1,   2,   3,   4,   4,   5, 672])"
      ]
     },
     "execution_count": 23,
     "metadata": {},
     "output_type": "execute_result"
    }
   ],
   "source": [
    "x= np.array([2,1,4,5,672,3,4])\n",
    "np.sort(x)"
   ]
  },
  {
   "cell_type": "code",
   "execution_count": 24,
   "metadata": {},
   "outputs": [],
   "source": [
    "x.sort()  #sort the actual array"
   ]
  },
  {
   "cell_type": "code",
   "execution_count": 25,
   "metadata": {},
   "outputs": [
    {
     "name": "stdout",
     "output_type": "stream",
     "text": [
      "[  1   2   3   4   4   5 672]\n"
     ]
    }
   ],
   "source": [
    "print(x)"
   ]
  },
  {
   "cell_type": "code",
   "execution_count": 26,
   "metadata": {},
   "outputs": [
    {
     "data": {
      "text/plain": [
       "array([1, 0, 3, 2, 5, 4], dtype=int64)"
      ]
     },
     "execution_count": 26,
     "metadata": {},
     "output_type": "execute_result"
    }
   ],
   "source": [
    "#argsort return the indices of the sorted array\n",
    "a = np.array([2,1,4,3,7,6])\n",
    "i= np.argsort(a)\n",
    "i"
   ]
  },
  {
   "cell_type": "markdown",
   "metadata": {},
   "source": [
    "#### Partial sorts"
   ]
  },
  {
   "cell_type": "code",
   "execution_count": 27,
   "metadata": {},
   "outputs": [
    {
     "data": {
      "text/plain": [
       "array([2, 1, 3, 4, 6, 5, 7])"
      ]
     },
     "execution_count": 27,
     "metadata": {},
     "output_type": "execute_result"
    }
   ],
   "source": [
    "x = np.array([7,2,3,1,6,5,4])\n",
    "np.partition(x,3)"
   ]
  },
  {
   "cell_type": "code",
   "execution_count": 28,
   "metadata": {},
   "outputs": [],
   "source": [
    "rand = np.random.RandomState(42)"
   ]
  },
  {
   "cell_type": "code",
   "execution_count": 29,
   "metadata": {},
   "outputs": [
    {
     "data": {
      "text/plain": [
       "array([[0.37454012, 0.95071431],\n",
       "       [0.73199394, 0.59865848],\n",
       "       [0.15601864, 0.15599452],\n",
       "       [0.05808361, 0.86617615],\n",
       "       [0.60111501, 0.70807258],\n",
       "       [0.02058449, 0.96990985],\n",
       "       [0.83244264, 0.21233911],\n",
       "       [0.18182497, 0.18340451],\n",
       "       [0.30424224, 0.52475643],\n",
       "       [0.43194502, 0.29122914]])"
      ]
     },
     "execution_count": 29,
     "metadata": {},
     "output_type": "execute_result"
    }
   ],
   "source": [
    "#Example : k-Nearest neighbors\n",
    "x = rand.rand(10,2)\n",
    "x"
   ]
  },
  {
   "cell_type": "code",
   "execution_count": 30,
   "metadata": {},
   "outputs": [
    {
     "data": {
      "image/png": "[encoded data removed]",
      "text/plain": [
       "<Figure size 432x288 with 1 Axes>"
      ]
     },
     "metadata": {},
     "output_type": "display_data"
    }
   ],
   "source": [
    "%matplotlib inline\n",
    "import matplotlib.pyplot as plt\n",
    "import seaborn; seaborn.set()\n",
    "plt.scatter(x[:,0], x[:,1], s = 100);"
   ]
  },
  {
   "cell_type": "code",
   "execution_count": 32,
   "metadata": {},
   "outputs": [
    {
     "data": {
      "text/plain": [
       "array([[0.        , 0.25171654, 0.67933117, 0.10729142, 0.11021119,\n",
       "        0.12565305, 0.75487265, 0.62590345, 0.1863819 , 0.43821601],\n",
       "       [0.25171654, 0.        , 0.52769893, 0.52572083, 0.02910074,\n",
       "        0.64393098, 0.1593326 , 0.47512176, 0.18843303, 0.18454216],\n",
       "       [0.67933117, 0.52769893, 0.        , 0.51394921, 0.50290096,\n",
       "        0.68080058, 0.46072414, 0.00141727, 0.15795558, 0.09442377],\n",
       "       [0.10729142, 0.52572083, 0.51394921, 0.        , 0.31987984,\n",
       "        0.01216687, 1.02713477, 0.48148903, 0.17716149, 0.47033641],\n",
       "       [0.11021119, 0.02910074, 0.50290096, 0.31987984, 0.        ,\n",
       "        0.40557444, 0.29926414, 0.45108072, 0.12173825, 0.20237694],\n",
       "       [0.12565305, 0.64393098, 0.68080058, 0.01216687, 0.40557444,\n",
       "        0.        , 1.23302708, 0.64458914, 0.27862329, 0.62982499],\n",
       "       [0.75487265, 0.1593326 , 0.46072414, 1.02713477, 0.29926414,\n",
       "        1.23302708, 0.        , 0.42414057, 0.37660024, 0.16662198],\n",
       "       [0.62590345, 0.47512176, 0.00141727, 0.48148903, 0.45108072,\n",
       "        0.64458914, 0.42414057, 0.        , 0.13150712, 0.07418619],\n",
       "       [0.1863819 , 0.18843303, 0.15795558, 0.17716149, 0.12173825,\n",
       "        0.27862329, 0.37660024, 0.13150712, 0.        , 0.07084299],\n",
       "       [0.43821601, 0.18454216, 0.09442377, 0.47033641, 0.20237694,\n",
       "        0.62982499, 0.16662198, 0.07418619, 0.07084299, 0.        ]])"
      ]
     },
     "execution_count": 32,
     "metadata": {},
     "output_type": "execute_result"
    }
   ],
   "source": [
    "#compute the distance between each pair of points\n",
    "distSq = np.sum((x[:, np.newaxis, : ] - x[np.newaxis,:,:]) ** 2, axis = -1)\n",
    "distSq"
   ]
  },
  {
   "cell_type": "code",
   "execution_count": 33,
   "metadata": {},
   "outputs": [
    {
     "data": {
      "text/plain": [
       "(10, 10, 2)"
      ]
     },
     "execution_count": 33,
     "metadata": {},
     "output_type": "execute_result"
    }
   ],
   "source": [
    "# or we can also done by\n",
    "#for each pair of points, compute differences in their coordinates\n",
    "\n",
    "differences = x[:,np.newaxis,:] - x[np.newaxis,: ,:]\n",
    "differences.shape"
   ]
  },
  {
   "cell_type": "code",
   "execution_count": 34,
   "metadata": {},
   "outputs": [
    {
     "data": {
      "text/plain": [
       "(10, 10, 2)"
      ]
     },
     "execution_count": 34,
     "metadata": {},
     "output_type": "execute_result"
    }
   ],
   "source": [
    "#square the coordinate differnce\n",
    "sqDiff = differences**2\n",
    "sqDiff.shape"
   ]
  },
  {
   "cell_type": "code",
   "execution_count": 35,
   "metadata": {},
   "outputs": [
    {
     "data": {
      "text/plain": [
       "array([[[0.00000000e+00, 0.00000000e+00],\n",
       "        [1.27773236e-01, 1.23943302e-01],\n",
       "        [4.77516365e-02, 6.31579538e-01],\n",
       "        [1.00144721e-01, 7.14670060e-03],\n",
       "        [5.13361821e-02, 5.88750085e-02],\n",
       "        [1.25284584e-01, 3.68468977e-04],\n",
       "        [2.09674720e-01, 5.45197930e-01],\n",
       "        [3.71391297e-02, 5.88764324e-01],\n",
       "        [4.94179135e-03, 1.81440111e-01],\n",
       "        [3.29532252e-03, 4.34920684e-01]],\n",
       "\n",
       "       [[1.27773236e-01, 1.23943302e-01],\n",
       "        [0.00000000e+00, 0.00000000e+00],\n",
       "        [3.31747548e-01, 1.95951385e-01],\n",
       "        [4.54155132e-01, 7.15656993e-02],\n",
       "        [1.71292943e-02, 1.19714439e-02],\n",
       "        [5.06103402e-01, 1.37827578e-01],\n",
       "        [1.00899411e-02, 1.49242658e-01],\n",
       "        [3.02685901e-01, 1.72435863e-01],\n",
       "        [1.82971516e-01, 5.46151337e-03],\n",
       "        [9.00293563e-02, 9.45128016e-02]],\n",
       "\n",
       "       [[4.77516365e-02, 6.31579538e-01],\n",
       "        [3.31747548e-01, 1.95951385e-01],\n",
       "        [0.00000000e+00, 0.00000000e+00],\n",
       "        [9.59126976e-03, 5.04357941e-01],\n",
       "        [1.98110780e-01, 3.04790182e-01],\n",
       "        [1.83424079e-02, 6.62458167e-01],\n",
       "        [4.57549428e-01, 3.17471286e-03],\n",
       "        [6.65966501e-04, 7.51307525e-04],\n",
       "        [2.19702363e-02, 1.35985347e-01],\n",
       "        [7.61353662e-02, 1.82884024e-02]],\n",
       "\n",
       "       [[1.00144721e-01, 7.14670060e-03],\n",
       "        [4.54155132e-01, 7.15656993e-02],\n",
       "        [9.59126976e-03, 5.04357941e-01],\n",
       "        [0.00000000e+00, 0.00000000e+00],\n",
       "        [2.94883101e-01, 2.49967382e-02],\n",
       "        [1.40618384e-03, 1.07606818e-02],\n",
       "        [5.99631905e-01, 4.27502868e-01],\n",
       "        [1.53119229e-02, 4.66177107e-01],\n",
       "        [6.05940715e-02, 1.16567421e-01],\n",
       "        [1.39772351e-01, 3.30564059e-01]],\n",
       "\n",
       "       [[5.13361821e-02, 5.88750085e-02],\n",
       "        [1.71292943e-02, 1.19714439e-02],\n",
       "        [1.98110780e-01, 3.04790182e-01],\n",
       "        [2.94883101e-01, 2.49967382e-02],\n",
       "        [0.00000000e+00, 0.00000000e+00],\n",
       "        [3.37015682e-01, 6.85587582e-02],\n",
       "        [5.35124720e-02, 2.45751670e-01],\n",
       "        [1.75804141e-01, 2.75276582e-01],\n",
       "        [8.81334408e-02, 3.36048094e-02],\n",
       "        [2.86184866e-02, 1.73758451e-01]],\n",
       "\n",
       "       [[1.25284584e-01, 3.68468977e-04],\n",
       "        [5.06103402e-01, 1.37827578e-01],\n",
       "        [1.83424079e-02, 6.62458167e-01],\n",
       "        [1.40618384e-03, 1.07606818e-02],\n",
       "        [3.37015682e-01, 6.85587582e-02],\n",
       "        [0.00000000e+00, 0.00000000e+00],\n",
       "        [6.59113650e-01, 5.73913428e-01],\n",
       "        [2.59984901e-02, 6.18590653e-01],\n",
       "        [8.04617184e-02, 1.98161568e-01],\n",
       "        [1.69217481e-01, 4.60607509e-01]],\n",
       "\n",
       "       [[2.09674720e-01, 5.45197930e-01],\n",
       "        [1.00899411e-02, 1.49242658e-01],\n",
       "        [4.57549428e-01, 3.17471286e-03],\n",
       "        [5.99631905e-01, 4.27502868e-01],\n",
       "        [5.35124720e-02, 2.45751670e-01],\n",
       "        [6.59113650e-01, 5.73913428e-01],\n",
       "        [0.00000000e+00, 0.00000000e+00],\n",
       "        [4.23303357e-01, 8.37211125e-04],\n",
       "        [2.78995660e-01, 9.76045824e-02],\n",
       "        [1.60398345e-01, 6.22363676e-03]],\n",
       "\n",
       "       [[3.71391297e-02, 5.88764324e-01],\n",
       "        [3.02685901e-01, 1.72435863e-01],\n",
       "        [6.65966501e-04, 7.51307525e-04],\n",
       "        [1.53119229e-02, 4.66177107e-01],\n",
       "        [1.75804141e-01, 2.75276582e-01],\n",
       "        [2.59984901e-02, 6.18590653e-01],\n",
       "        [4.23303357e-01, 8.37211125e-04],\n",
       "        [0.00000000e+00, 0.00000000e+00],\n",
       "        [1.49859894e-02, 1.16521135e-01],\n",
       "        [6.25600401e-02, 1.16261509e-02]],\n",
       "\n",
       "       [[4.94179135e-03, 1.81440111e-01],\n",
       "        [1.82971516e-01, 5.46151337e-03],\n",
       "        [2.19702363e-02, 1.35985347e-01],\n",
       "        [6.05940715e-02, 1.16567421e-01],\n",
       "        [8.81334408e-02, 3.36048094e-02],\n",
       "        [8.04617184e-02, 1.98161568e-01],\n",
       "        [2.78995660e-01, 9.76045824e-02],\n",
       "        [1.49859894e-02, 1.16521135e-01],\n",
       "        [0.00000000e+00, 0.00000000e+00],\n",
       "        [1.63079989e-02, 5.45349958e-02]],\n",
       "\n",
       "       [[3.29532252e-03, 4.34920684e-01],\n",
       "        [9.00293563e-02, 9.45128016e-02],\n",
       "        [7.61353662e-02, 1.82884024e-02],\n",
       "        [1.39772351e-01, 3.30564059e-01],\n",
       "        [2.86184866e-02, 1.73758451e-01],\n",
       "        [1.69217481e-01, 4.60607509e-01],\n",
       "        [1.60398345e-01, 6.22363676e-03],\n",
       "        [6.25600401e-02, 1.16261509e-02],\n",
       "        [1.63079989e-02, 5.45349958e-02],\n",
       "        [0.00000000e+00, 0.00000000e+00]]])"
      ]
     },
     "execution_count": 35,
     "metadata": {},
     "output_type": "execute_result"
    }
   ],
   "source": [
    "sqDiff"
   ]
  },
  {
   "cell_type": "code",
   "execution_count": 36,
   "metadata": {},
   "outputs": [
    {
     "data": {
      "text/plain": [
       "(10, 10)"
      ]
     },
     "execution_count": 36,
     "metadata": {},
     "output_type": "execute_result"
    }
   ],
   "source": [
    "#sum the coordinate diff\n",
    "distSq = sqDiff.sum(-1)\n",
    "distSq.shape"
   ]
  },
  {
   "cell_type": "code",
   "execution_count": 37,
   "metadata": {},
   "outputs": [
    {
     "data": {
      "text/plain": [
       "array([0., 0., 0., 0., 0., 0., 0., 0., 0., 0.])"
      ]
     },
     "execution_count": 37,
     "metadata": {},
     "output_type": "execute_result"
    }
   ],
   "source": [
    "distSq.diagonal()"
   ]
  },
  {
   "cell_type": "code",
   "execution_count": 38,
   "metadata": {},
   "outputs": [
    {
     "data": {
      "text/plain": [
       "array([[0, 3, 4, 5, 8, 1, 9, 7, 2, 6],\n",
       "       [1, 4, 6, 9, 8, 0, 7, 3, 2, 5],\n",
       "       [2, 7, 9, 8, 6, 4, 3, 1, 0, 5],\n",
       "       [3, 5, 0, 8, 4, 9, 7, 2, 1, 6],\n",
       "       [4, 1, 0, 8, 9, 6, 3, 5, 7, 2],\n",
       "       [5, 3, 0, 8, 4, 9, 1, 7, 2, 6],\n",
       "       [6, 1, 9, 4, 8, 7, 2, 0, 3, 5],\n",
       "       [7, 2, 9, 8, 6, 4, 1, 3, 0, 5],\n",
       "       [8, 9, 4, 7, 2, 3, 0, 1, 5, 6],\n",
       "       [9, 8, 7, 2, 6, 1, 4, 0, 3, 5]], dtype=int64)"
      ]
     },
     "execution_count": 38,
     "metadata": {},
     "output_type": "execute_result"
    }
   ],
   "source": [
    "#sort the each row and find the nearest indices\n",
    "nearest = np.argsort(distSq, axis=1)\n",
    "nearest"
   ]
  },
  {
   "cell_type": "code",
   "execution_count": 39,
   "metadata": {},
   "outputs": [
    {
     "data": {
      "text/plain": [
       "array([[3, 0, 4, 5, 8, 9, 1, 7, 2, 6],\n",
       "       [1, 4, 6, 9, 3, 5, 2, 7, 8, 0],\n",
       "       [2, 7, 9, 8, 6, 4, 5, 1, 3, 0],\n",
       "       [3, 5, 0, 8, 4, 1, 6, 7, 2, 9],\n",
       "       [1, 4, 0, 8, 9, 6, 2, 7, 5, 3],\n",
       "       [5, 3, 0, 8, 4, 1, 6, 7, 2, 9],\n",
       "       [1, 9, 6, 4, 3, 5, 2, 7, 8, 0],\n",
       "       [7, 2, 9, 8, 6, 4, 5, 1, 3, 0],\n",
       "       [8, 9, 4, 7, 2, 3, 0, 1, 5, 6],\n",
       "       [8, 7, 9, 2, 1, 6, 4, 5, 3, 0]], dtype=int64)"
      ]
     },
     "execution_count": 39,
     "metadata": {},
     "output_type": "execute_result"
    }
   ],
   "source": [
    "k=2\n",
    "nearestPartition = np.argpartition(distSq, k+1, axis=1)\n",
    "nearestPartition"
   ]
  },
  {
   "cell_type": "code",
   "execution_count": 40,
   "metadata": {},
   "outputs": [
    {
     "data": {
      "text/plain": [
       "<matplotlib.collections.PathCollection at 0x2392eb7e488>"
      ]
     },
     "execution_count": 40,
     "metadata": {},
     "output_type": "execute_result"
    },
    {
     "data": {
      "image/png": "[encoded data removed]",
      "text/plain": [
       "<Figure size 432x288 with 1 Axes>"
      ]
     },
     "metadata": {},
     "output_type": "display_data"
    }
   ],
   "source": [
    "#visualize this\n",
    "plt.scatter(x[:,0], x[:,1],s=100)"
   ]
  },
  {
   "cell_type": "code",
   "execution_count": 41,
   "metadata": {},
   "outputs": [
    {
     "data": {
      "image/png": "[encoded data removed]",
      "text/plain": [
       "<Figure size 432x288 with 1 Axes>"
      ]
     },
     "metadata": {},
     "output_type": "display_data"
    }
   ],
   "source": [
    "k=2\n",
    "for i in range(x.shape[0]):\n",
    "    for j in nearestPartition[i, :k+1]:\n",
    "        plt.plot(*zip(x[j], x[i]), color='black')"
   ]
  },
  {
   "cell_type": "code",
   "execution_count": null,
   "metadata": {},
   "outputs": [],
   "source": []
  }
 ],
 "metadata": {
  "kernelspec": {
   "display_name": "Python 3",
   "language": "python",
   "name": "python3"
  },
  "language_info": {
   "codemirror_mode": {
    "name": "ipython",
    "version": 3
   },
   "file_extension": ".py",
   "mimetype": "text/x-python",
   "name": "python",
   "nbconvert_exporter": "python",
   "pygments_lexer": "ipython3",
   "version": "3.7.6"
  }
 },
 "nbformat": 4,
 "nbformat_minor": 4
}
